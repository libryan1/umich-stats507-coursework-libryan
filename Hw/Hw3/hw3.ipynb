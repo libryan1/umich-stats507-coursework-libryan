{
 "cells": [
  {
   "cell_type": "markdown",
   "metadata": {},
   "source": [
    "# Homework 3: More String, Lists, and Python Objects (18 pts)"
   ]
  },
  {
   "cell_type": "markdown",
   "metadata": {},
   "source": [
    "name: Bryan Li\n",
    "\n",
    "email: libryan@umich.edu\n",
    "\n",
    "This homework assignment took me 7 hours in total to complete. (Please help us to gauge the difficulty of the assignment.)"
   ]
  },
  {
   "cell_type": "markdown",
   "metadata": {},
   "source": [
    "## Collaboration Disclosure\n",
    "\n",
    "In the cell below, please list *everyone* with whom you discussed any of the homework problems, excluding only the GSIs and the course instructor. \n",
    "\n",
    "If you did not discuss the homework with anyone else, write __\"I did not discuss this homework with anyone.\"__\n",
    "\n",
    "Even if you discuss questions with other, the code you submit must be only yours. All work is checked with the [MOSS plagiarism detector](https://theory.stanford.edu/~aiken/moss/)."
   ]
  },
  {
   "cell_type": "markdown",
   "metadata": {},
   "source": [
    "---I did not discuss this homework with anyone."
   ]
  },
  {
   "cell_type": "markdown",
   "metadata": {},
   "source": [
    "## Submission Instructions\n",
    "Your homework solutions should be written entirely in this Jupyter notebook file. Once it contains your solutions, you should submit this notebook through Canvas. \n",
    "\n",
    "\n",
    "Before submitting, please make sure to __Cells->Run All__ executes without errors; errors in your code translate directly to point deductions. \n",
    "In general, you don't need to do explicitly raise errors (e.g. with the ```raise``` function) if we don't ask you to in the problem statement.\n",
    "However, even in cases where we ask you to check for errors, your submission should not contain any examples of your functions actually raising those errors.\n",
    "\n",
    "Note that many parts of this homework where you are expected to type in code will have ```NotImplementedError()``` as a placeholder. You need to delete this function and replace it with your own code.\n",
    "\n",
    "## Importing libaries\n",
    "\n",
    "Unless specifically prohibited, you can import any Python library that comes included with Python (e.g. ```math```, ```datetime```) or that has been used in the lecture or homework prompts. You do not need any other libraries to complete the homework. Note that the graders will not install any additional libraries to grade an assignment.\n",
    "\n",
    "\n",
    "<!-- ## Coding style\n",
    "Please follow the [PEP8 guidelines](https://www.python.org/dev/peps/pep-0008/). The `pycodestyle_magic` package will remind you if you are not. To install it, run\n",
    "```\n",
    "pip install flake8 pycodestyle_magic\n",
    "```\n",
    "Once it is installed the following two Jupyter directives will enable syntax checking: -->\n",
    "\n",
    "## Homework tips \n",
    "\n",
    "1. **Start early!** If you run into trouble installing things or importing packages, it’s\n",
    "best to find those problems well in advance, not the night before your assignment is\n",
    "due when we cannot help you!\n",
    "\n",
    "2. **Make sure you back up your work!** At a minimum, do your work in a Dropbox\n",
    "folder. Better yet, use git, which is well worth your time and effort to learn.\n",
    "\n",
    "3. **Be careful to follow directions!** Remember that Python is case sensitive. If\n",
    "you are ask you to define a function called my_function and you define a function\n",
    "called My_Function, you will not receive full credit. You may want to copy-paste\n",
    "the function names below to make sure that the functions in your notebook match.\n",
    "\n",
    "## Error checking\n",
    "\n",
    "You do not need to do error checking (raising errors, etc.) in your code unless we explicitly ask you to so in a problem.\n",
    "\n",
    "## Coding style\n",
    "Please follow the [PEP8 guidelines](https://www.python.org/dev/peps/pep-0008/). The `pycodestyle_magic` package will remind you if you are not. To install it, run\n",
    "```\n",
    "pip install flake8 pycodestyle_magic\n",
    "```\n",
    "Once it is installed the following two Jupyter directives will enable syntax checking:\n",
    "\n",
    "\n",
    "## Nbgrader\n",
    "\n",
    "We will be using `nbgrader` to grade your jupyter notebook. You will notice some `read-only` cells in the assignment that contain `assert` statements. These are tests that your code must pass for your solution to be correct. If any of the tests fail, you will get an python error and not get points for that question. \n",
    "\n",
    "**Note:** The tests shown not are not comprehensive; additional tests will be used at grading time. You are encouraged to read the problem carefully and verify your code covers all possible cases.\n",
    "\n",
    "**Be careful:** If a jupyter notebook cell takes longer than `60s` to run, the autograder will not grade it and you will receive zero credit for that question."
   ]
  },
  {
   "cell_type": "code",
   "execution_count": 77,
   "metadata": {},
   "outputs": [],
   "source": [
    "import collections\n",
    "import string\n",
    "import itertools"
   ]
  },
  {
   "cell_type": "markdown",
   "metadata": {},
   "source": [
    "---\n",
    "## Question 1: Infinite sequences (8 pts)\n",
    "For each of the problems below, write a function which generates the given infinite sequence. We should be able to use your generators to access any entry of the sequence no matter how deep."
   ]
  },
  {
   "cell_type": "markdown",
   "metadata": {},
   "source": [
    "**1(a)** (2 pts) The prime numbers are\n",
    "\n",
    "$$2, 3, 5, 7, 11, 13, 17, \\dots$$\n",
    "\n",
    "Give a generator for the primes. (Note: many algorithms exist for this problem. Yours should be efficient enough that we can use it to generate reasonably large prime numbers.)"
   ]
  },
  {
   "cell_type": "code",
   "execution_count": 78,
   "metadata": {
    "deletable": false,
    "editable": true,
    "nbgrader": {
     "cell_type": "code",
     "checksum": "ec0fc1ad1c3da548dcd00b13f0f5f98e",
     "grade": false,
     "grade_id": "primes",
     "locked": false,
     "schema_version": 3,
     "solution": true
    },
    "slideshow": {
     "slide_type": ""
    },
    "tags": []
   },
   "outputs": [],
   "source": [
    "def primes():\n",
    "    # YOUR CODE HERE\n",
    "    prime = 2\n",
    "    prime_list = []\n",
    "\n",
    "    while True:\n",
    "        if prime == 2:\n",
    "            prime_list.append(prime)\n",
    "            yield prime\n",
    "            prime += 1\n",
    "        else:\n",
    "            is_prime = 1\n",
    "            for prev in prime_list:\n",
    "                if prime % prev == 0:\n",
    "                    is_prime = 0\n",
    "\n",
    "            if is_prime == 1:\n",
    "                prime_list.append(prime)\n",
    "                yield prime\n",
    "                prime += 1\n",
    "            else:\n",
    "                prime += 1"
   ]
  },
  {
   "cell_type": "code",
   "execution_count": 79,
   "metadata": {
    "deletable": false,
    "editable": false,
    "nbgrader": {
     "cell_type": "code",
     "checksum": "f31b467e2800e3317e5a1b5006743e1d",
     "grade": true,
     "grade_id": "correct_prime",
     "locked": false,
     "points": 2,
     "schema_version": 3,
     "solution": false
    }
   },
   "outputs": [],
   "source": [
    "\"\"\"Check that squares returns the correct output for several inputs\"\"\"\n",
    "p = primes()\n",
    "plist = [2,3,5,7,11,13,17,19,23,29]\n",
    "for i in range(10):\n",
    "    assert next(p) == plist[i]"
   ]
  },
  {
   "cell_type": "markdown",
   "metadata": {},
   "source": [
    "**1(b)** (3 pts) The *ruler sequence* is\n",
    "\n",
    "$$1, 2, 2, 3, 3, 4, 4, 4, 5, 5, 5, 6, 6, 6, 7, 7, 7, 7\\dots$$\n",
    "\n",
    "The first number (1) appears once; the next two numbers (2 and 3) appear twice, the next three numbers appear three times, etc.\n",
    "\n",
    "Hint: You are highly encouraged to use relevant functions from itertools to make your solution simple"
   ]
  },
  {
   "cell_type": "code",
   "execution_count": 80,
   "metadata": {
    "deletable": false,
    "editable": true,
    "nbgrader": {
     "cell_type": "code",
     "checksum": "78195e54db92fe7c15670ab17b6a2bdb",
     "grade": false,
     "grade_id": "ruler",
     "locked": false,
     "schema_version": 3,
     "solution": true
    },
    "slideshow": {
     "slide_type": ""
    },
    "tags": []
   },
   "outputs": [],
   "source": [
    "def ruler():\n",
    "    # YOUR CODE HERE\n",
    "    curr_n = 1\n",
    "    times = 1\n",
    "    next_n = 1\n",
    "    i = 0\n",
    "    while True:\n",
    "        if i < times:\n",
    "            yield curr_n\n",
    "            i += 1\n",
    "        elif i == times and curr_n == next_n:\n",
    "            times += 1\n",
    "            next_n = curr_n + times\n",
    "            curr_n += 1\n",
    "            yield curr_n\n",
    "            i = 1\n",
    "        elif i == times and curr_n != next_n:\n",
    "            curr_n += 1\n",
    "            yield curr_n\n",
    "            i = 1"
   ]
  },
  {
   "cell_type": "code",
   "execution_count": 81,
   "metadata": {
    "deletable": false,
    "editable": false,
    "nbgrader": {
     "cell_type": "code",
     "checksum": "979320ad9c7632a1e856e748299790b2",
     "grade": true,
     "grade_id": "correct_ruler",
     "locked": false,
     "points": 3,
     "schema_version": 3,
     "solution": false
    }
   },
   "outputs": [],
   "source": [
    "r = ruler()\n",
    "ruler_numbers = [1, 2, 2, 3, 3, 4, 4, 4, 5, 5, 5, 6, 6, 6, 7, 7, 7, 7, 8, 8, 8, 8]\n",
    "for n in ruler_numbers:\n",
    "    assert next(r) == n"
   ]
  },
  {
   "cell_type": "markdown",
   "metadata": {},
   "source": [
    "**1(c)** (3 pts) The look-and-say sequence  \n",
    "\n",
    "$$1, 11, 21, 1211, 111221, 312211, 13112221, 1113213211, \\dots$$\n",
    "\n",
    "is generated as follows:\n",
    "\n",
    "1. The first entry is one.\n",
    "2. The second entry is generated by reading the first entry aloud: \"one one\"\n",
    "3. The third entry is generated by reading the second entry aloud: \"two ones\"\n",
    "4. The fourth entry is generated by reading the third entry aloud: \"one two and one one\"\n",
    "5. The fifth entry is therefore \"one one, one two, and two ones\"\n",
    "\n",
    "... and so forth. Note that each entry of the sequence should be a `str` object."
   ]
  },
  {
   "cell_type": "code",
   "execution_count": 82,
   "metadata": {
    "deletable": false,
    "editable": true,
    "nbgrader": {
     "cell_type": "code",
     "checksum": "be1e455a8fd4a19f6a11ae8f7f322185",
     "grade": false,
     "grade_id": "look_say",
     "locked": false,
     "schema_version": 3,
     "solution": true
    },
    "slideshow": {
     "slide_type": ""
    },
    "tags": []
   },
   "outputs": [],
   "source": [
    "def look_say():\n",
    "    # YOUR CODE HERE\n",
    "    seq = '1'\n",
    "    yield seq\n",
    "    \n",
    "    while True:\n",
    "        l = []\n",
    "        part = seq[0]\n",
    "        for i in range(1, len(seq)):\n",
    "            if seq[i] == seq[i-1]:\n",
    "                part += seq[i]\n",
    "            else:\n",
    "                l.append(part)\n",
    "                part = seq[i]\n",
    "        l.append(part)\n",
    "\n",
    "        new_seq = ''\n",
    "        for string in l:\n",
    "            new_seq += str(len(string)) + string[0]\n",
    "        seq = new_seq\n",
    "        yield seq"
   ]
  },
  {
   "cell_type": "code",
   "execution_count": 83,
   "metadata": {
    "deletable": false,
    "editable": false,
    "nbgrader": {
     "cell_type": "code",
     "checksum": "ba7a444ef7c89e731fdad7d890bfc99b",
     "grade": true,
     "grade_id": "correct_look_say",
     "locked": false,
     "points": 3,
     "schema_version": 3,
     "solution": false
    }
   },
   "outputs": [],
   "source": [
    "s = look_say()\n",
    "look_say_first_ten = ['1',\n",
    " '11',\n",
    " '21',\n",
    " '1211',\n",
    " '111221',\n",
    " '312211',\n",
    " '13112221',\n",
    " '1113213211',\n",
    " '31131211131221',\n",
    " '13211311123113112211']\n",
    "for i in range(10):\n",
    "    s_i = next(s)\n",
    "    assert isinstance(s_i, str)\n",
    "    assert s_i == look_say_first_ten[i]"
   ]
  },
  {
   "cell_type": "markdown",
   "metadata": {},
   "source": [
    "### Question 2: Simple ciphers (5 pts)\n",
    "\n",
    "A *cipher* is an algorithm for encrypting or decrypting a text message, called *plaintext*, into *ciphertext*. In this exercise, we will assume that all plaintext to be encrypted or decrypted are composed of the lower-case Roman alphabet, without any punctuation or whitespace. Examples of such messages could be\n",
    "\n",
    "```attackatdawn```\n",
    "\n",
    "or \n",
    "\n",
    "```iamajellyfilleddonut```."
   ]
  },
  {
   "cell_type": "code",
   "execution_count": 84,
   "metadata": {
    "deletable": false,
    "editable": true,
    "nbgrader": {
     "cell_type": "code",
     "checksum": "a3185d99ed95138bb5421ee329d95cb2",
     "grade": false,
     "grade_id": "enc_caesar",
     "locked": false,
     "schema_version": 3,
     "solution": true
    },
    "slideshow": {
     "slide_type": ""
    },
    "tags": []
   },
   "outputs": [],
   "source": [
    "import numpy as np\n",
    "def enc_caesar(s: str, k: int) -> str:\n",
    "    '''\n",
    "    Encrypt the message s using Ceasar cipher with key k.\n",
    "    \n",
    "    >>> enc_caeasar('thequickbrownfoxjumpsoverthelazydog', 1)\n",
    "    'uifrvjdlcspxogpykvnqtpwfsuifmbazeph'\n",
    "    '''\n",
    "    # YOUR CODE HERE\n",
    "    sign = 1\n",
    "    if k < 0:\n",
    "        sign = -1\n",
    "    if abs(k) > 26:\n",
    "        if k % 26 == 0:\n",
    "            k = 0\n",
    "        else:\n",
    "            k = (k % 26) * sign\n",
    "    \n",
    "    alpha_to_num = {}\n",
    "    num_to_alpha = {}\n",
    "    alpha_l = ['a','b','c','d','e','f','g','h','i','j','k','l','m','n','o','p','q','r','s','t','u','v','w','x','y','z']\n",
    "    i = 1\n",
    "    for alpha in alpha_l:\n",
    "        alpha_to_num[alpha] = i\n",
    "        num_to_alpha[i] = alpha\n",
    "        i += 1\n",
    "\n",
    "    str_num_l = []\n",
    "    for alpha in s:\n",
    "        str_num_l.append(alpha_to_num[alpha])\n",
    "    str_num_arr = np.array(str_num_l)\n",
    "\n",
    "    str_num_arr = str_num_arr + k\n",
    "    for i in range(0, len(str_num_arr)):\n",
    "        if str_num_arr[i] > 26:\n",
    "            str_num_arr[i] = str_num_arr[i] - 26\n",
    "        elif str_num_arr[i] < 1:\n",
    "            str_num_arr[i] = str_num_arr[i] + 26\n",
    "\n",
    "    enc_str = ''\n",
    "    for num in str_num_arr:\n",
    "        enc_str += num_to_alpha[num]\n",
    "    return enc_str"
   ]
  },
  {
   "cell_type": "code",
   "execution_count": 85,
   "metadata": {
    "deletable": false,
    "editable": false,
    "nbgrader": {
     "cell_type": "code",
     "checksum": "d34957a641578635957775375212a647",
     "grade": true,
     "grade_id": "correct_enc_caesar",
     "locked": false,
     "points": 2,
     "schema_version": 3,
     "solution": false
    }
   },
   "outputs": [],
   "source": [
    "public_tests = [('thequickbrownfoxjumpsoverthelazydog', 1, 'uifrvjdlcspxogpykvnqtpwfsuifmbazeph'), ('howdoesthiscodehandlewrapping', 18, 'zgovgwklzakugvwzsfvdwojshhafy'),('thekeycanbenegative', -3, 'qebhbvzxkybkbdxqfsb')]\n",
    "for msg, k, enc in public_tests:\n",
    "    assert enc_caesar(msg, k) == enc"
   ]
  },
  {
   "cell_type": "code",
   "execution_count": 86,
   "metadata": {
    "deletable": false,
    "editable": true,
    "nbgrader": {
     "cell_type": "code",
     "checksum": "14a77ac20f2ffe45f4a4f17e7610643e",
     "grade": false,
     "grade_id": "dec_caesar",
     "locked": false,
     "schema_version": 3,
     "solution": true
    },
    "slideshow": {
     "slide_type": ""
    },
    "tags": []
   },
   "outputs": [],
   "source": [
    "def dec_caesar(s: str, k: int) -> str:\n",
    "    '''\n",
    "    Decrypt the message s using Ceasar cypher with key k.\n",
    "    \n",
    "    >>> dec_caeasar('uifrvjdlcspxogpykvnqtpwfsuifmbazeph', 1)\n",
    "    'thequickbrownfoxjumpsoverthelazydog'\n",
    "    '''\n",
    "    # YOUR CODE HERE\n",
    "    sign = 1\n",
    "    if k < 0:\n",
    "        sign = -1\n",
    "    if abs(k) > 26:\n",
    "        if k % 26 == 0:\n",
    "            k = 0\n",
    "        else:\n",
    "            k = (k % 26) * sign\n",
    "\n",
    "    alpha_to_num = {}\n",
    "    num_to_alpha = {}\n",
    "    alpha_l = ['a','b','c','d','e','f','g','h','i','j','k','l','m','n','o','p','q','r','s','t','u','v','w','x','y','z']\n",
    "    i = 1\n",
    "    for alpha in alpha_l:\n",
    "        alpha_to_num[alpha] = i\n",
    "        num_to_alpha[i] = alpha\n",
    "        i += 1\n",
    "\n",
    "    enc_d = {}\n",
    "    for alpha in alpha_to_num:\n",
    "        enc_d[alpha] = alpha_to_num[alpha] + k\n",
    "\n",
    "    for alpha in enc_d:\n",
    "        if enc_d[alpha] > 26:\n",
    "            enc_d[alpha] = enc_d[alpha] - 26\n",
    "        elif enc_d[alpha] < 1:\n",
    "            enc_d[alpha] = enc_d[alpha] + 26\n",
    "    \n",
    "    dec_d = {}\n",
    "    for alpha in enc_d:\n",
    "        dec_d[enc_d[alpha]] = alpha\n",
    "\n",
    "    num_l = []\n",
    "    for alpha in s:\n",
    "        num_l.append(alpha_to_num[alpha])\n",
    "    \n",
    "    dec_str = ''\n",
    "    for num in num_l:\n",
    "        dec_str += dec_d[num]\n",
    "\n",
    "    return dec_str"
   ]
  },
  {
   "cell_type": "code",
   "execution_count": 87,
   "metadata": {
    "deletable": false,
    "editable": false,
    "nbgrader": {
     "cell_type": "code",
     "checksum": "cb49ed8a1d9b720a605beea4b18202dd",
     "grade": true,
     "grade_id": "correct_dec_caesar",
     "locked": false,
     "points": 3,
     "schema_version": 3,
     "solution": false
    }
   },
   "outputs": [],
   "source": [
    "public_tests = [('thequickbrownfoxjumpsoverthelazydog', 1, 'uifrvjdlcspxogpykvnqtpwfsuifmbazeph'), ('howdoesthiscodehandlewrapping', 18, 'zgovgwklzakugvwzsfvdwojshhafy'),('thekeycanbenegative', -3, 'qebhbvzxkybkbdxqfsb')]\n",
    "for msg, k, enc in public_tests: \n",
    "    assert dec_caesar(enc, k) == msg"
   ]
  },
  {
   "cell_type": "markdown",
   "metadata": {},
   "source": [
    "### Question 3 (5 pts) Valid String.\n",
    "Given a string s containing just the characters '(', ')', '{', '}', '[' and ']', determine if the input string is valid.\n",
    "\n",
    "An input string is valid if:\n",
    "\n",
    "1) Open brackets must be closed by the same type of brackets.\n",
    "2) Open brackets must be closed in the correct order.\n",
    "3) Every close bracket has a corresponding open bracket of the same type.\n"
   ]
  },
  {
   "cell_type": "code",
   "execution_count": 88,
   "metadata": {
    "deletable": false,
    "editable": true,
    "nbgrader": {
     "cell_type": "code",
     "checksum": "814026852d375bebf517527a757c98b2",
     "grade": false,
     "grade_id": "is_valid",
     "locked": false,
     "schema_version": 3,
     "solution": true
    },
    "slideshow": {
     "slide_type": ""
    },
    "tags": []
   },
   "outputs": [],
   "source": [
    "def is_valid(s):\n",
    "    # YOUR CODE HERE\n",
    "    bracket_d = {'(':1, '{':2, '[':3, ')':-1, '}':-2, ']':-3}\n",
    "    num_l = []\n",
    "    for char in s:\n",
    "        num_l.append(bracket_d[char])\n",
    "\n",
    "    if sum(num_l) != 0:\n",
    "        return False\n",
    "\n",
    "    open_l = []\n",
    "    close_l = []\n",
    "    for num in num_l:\n",
    "        if num > 0:\n",
    "            open_l.append(num)\n",
    "        elif num < 0:\n",
    "            close_l.append(num)\n",
    "\n",
    "    for i in range(0, int(len(num_l)/2)):\n",
    "        if open_l[i] != abs(close_l[(-i)-1]):\n",
    "            return False\n",
    "    \n",
    "    return True"
   ]
  },
  {
   "cell_type": "code",
   "execution_count": 89,
   "metadata": {
    "deletable": false,
    "editable": false,
    "nbgrader": {
     "cell_type": "code",
     "checksum": "2e0c2e9359f29fa50b933a2ef332aafa",
     "grade": true,
     "grade_id": "correct_is_valid",
     "locked": false,
     "points": 5,
     "schema_version": 3,
     "solution": false
    }
   },
   "outputs": [],
   "source": [
    "assert is_valid('()') == True\n",
    "assert is_valid('([{]}') == False\n",
    "assert is_valid('([{}])') == True"
   ]
  },
  {
   "cell_type": "code",
   "execution_count": null,
   "metadata": {},
   "outputs": [],
   "source": []
  }
 ],
 "metadata": {
  "kernelspec": {
   "display_name": "Python 3 (ipykernel)",
   "language": "python",
   "name": "python3"
  },
  "language_info": {
   "codemirror_mode": {
    "name": "ipython",
    "version": 3
   },
   "file_extension": ".py",
   "mimetype": "text/x-python",
   "name": "python",
   "nbconvert_exporter": "python",
   "pygments_lexer": "ipython3",
   "version": "3.12.7"
  }
 },
 "nbformat": 4,
 "nbformat_minor": 4
}
