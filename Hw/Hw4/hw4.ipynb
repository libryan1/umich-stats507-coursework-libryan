{
 "cells": [
  {
   "cell_type": "markdown",
   "metadata": {},
   "source": [
    "# Homework 4: Dictionaries, Functional Programming and Python Objects (24 pts)"
   ]
  },
  {
   "cell_type": "markdown",
   "metadata": {},
   "source": [
    "name: Bryan Li\n",
    "\n",
    "email: libryan@umich.edu\n",
    "\n",
    "This homework assignment took me 7 hours in total to complete. (Please help us to gauge the difficulty of the assignment.)"
   ]
  },
  {
   "cell_type": "markdown",
   "metadata": {},
   "source": [
    "## Collaboration Disclosure\n",
    "\n",
    "In the cell below, please list *everyone* with whom you discussed any of the homework problems, excluding only the GSIs and the course instructor. \n",
    "\n",
    "If you did not discuss the homework with anyone else, write __\"I did not discuss this homework with anyone.\"__\n",
    "\n",
    "Even if you discuss questions with other, the code you submit must be only yours. All work is checked with the [MOSS plagiarism detector](https://theory.stanford.edu/~aiken/moss/)."
   ]
  },
  {
   "cell_type": "markdown",
   "metadata": {},
   "source": [
    "I did not discuss this homework with anyone."
   ]
  },
  {
   "cell_type": "markdown",
   "metadata": {},
   "source": [
    "## Submission Instructions\n",
    "Your homework solutions should be written entirely in this Jupyter notebook file. Once it contains your solutions, you should submit this notebook through Canvas. \n",
    "\n",
    "\n",
    "Before submitting, please make sure to __Cells->Run All__ executes without errors; errors in your code translate directly to point deductions. \n",
    "In general, you don't need to do explicitly raise errors (e.g. with the ```raise``` function) if we don't ask you to in the problem statement.\n",
    "However, even in cases where we ask you to check for errors, your submission should not contain any examples of your functions actually raising those errors.\n",
    "\n",
    "Note that many parts of this homework where you are expected to type in code will have ```NotImplementedError()``` as a placeholder. You need to delete this function and replace it with your own code.\n",
    "\n",
    "## Importing libaries\n",
    "\n",
    "Unless specifically prohibited, you can import any Python library that comes included with Python (e.g. ```math```, ```datetime```) or that has been used in the lecture or homework prompts. You do not need any other libraries to complete the homework. Note that the graders will not install any additional libraries to grade an assignment.\n",
    "\n",
    "\n",
    "<!-- ## Coding style\n",
    "Please follow the [PEP8 guidelines](https://www.python.org/dev/peps/pep-0008/). The `pycodestyle_magic` package will remind you if you are not. To install it, run\n",
    "```\n",
    "pip install flake8 pycodestyle_magic\n",
    "```\n",
    "Once it is installed the following two Jupyter directives will enable syntax checking: -->\n",
    "\n",
    "## Homework tips \n",
    "\n",
    "1. **Start early!** If you run into trouble installing things or importing packages, it’s\n",
    "best to find those problems well in advance, not the night before your assignment is\n",
    "due when we cannot help you!\n",
    "\n",
    "2. **Make sure you back up your work!** At a minimum, do your work in a Dropbox\n",
    "folder. Better yet, use git, which is well worth your time and effort to learn.\n",
    "\n",
    "3. **Be careful to follow directions!** Remember that Python is case sensitive. If\n",
    "you are ask you to define a function called my_function and you define a function\n",
    "called My_Function, you will not receive full credit. You may want to copy-paste\n",
    "the function names below to make sure that the functions in your notebook match.\n",
    "\n",
    "## Error checking\n",
    "\n",
    "You do not need to do error checking (raising errors, etc.) in your code unless we explicitly ask you to so in a problem.\n",
    "\n",
    "## Coding style\n",
    "Please follow the [PEP8 guidelines](https://www.python.org/dev/peps/pep-0008/). The `pycodestyle_magic` package will remind you if you are not. To install it, run\n",
    "```\n",
    "pip install flake8 pycodestyle_magic\n",
    "```\n",
    "Once it is installed the following two Jupyter directives will enable syntax checking:\n",
    "\n",
    "\n",
    "## Nbgrader\n",
    "\n",
    "We will be using `nbgrader` to grade your jupyter notebook. You will notice some `read-only` cells in the assignment that contain `assert` statements. These are tests that your code must pass for your solution to be correct. If any of the tests fail, you will get an python error and not get points for that question. \n",
    "\n",
    "**Note:** The tests shown not are not comprehensive; additional tests will be used at grading time. You are encouraged to read the problem carefully and verify your code covers all possible cases.\n",
    "\n",
    "**Be careful:** If a jupyter notebook cell takes longer than `60s` to run, the autograder will not grade it and you will receive zero credit for that question."
   ]
  },
  {
   "cell_type": "markdown",
   "metadata": {},
   "source": [
    "---\n",
    "##  Problem 1: List Comprehensions (1 points)\n",
    "Write a list comprehension where each element equals $3^{n}−1$ for $n = 1, 2, 3,..., 20$.\n",
    "\n",
    "For ease of grading, please assign this list comprehension to a variable called `pow3minus1`."
   ]
  },
  {
   "cell_type": "code",
   "execution_count": 125,
   "metadata": {
    "deletable": false,
    "editable": true,
    "nbgrader": {
     "cell_type": "code",
     "checksum": "46ff379b1295d3acb9d011ad5a1247e1",
     "grade": false,
     "grade_id": "pow3minus1",
     "locked": false,
     "schema_version": 3,
     "solution": true
    },
    "slideshow": {
     "slide_type": ""
    },
    "tags": []
   },
   "outputs": [],
   "source": [
    "# YOUR CODE HERE\n",
    "pow3minus1 = [((3**i)-1)for i in range(1, 21)]"
   ]
  },
  {
   "cell_type": "code",
   "execution_count": 126,
   "metadata": {
    "deletable": false,
    "editable": false,
    "nbgrader": {
     "cell_type": "code",
     "checksum": "db6d03e43df4650987670fc7cf1ad266",
     "grade": true,
     "grade_id": "correct_pow3minus1",
     "locked": false,
     "points": 3,
     "schema_version": 3,
     "solution": false
    }
   },
   "outputs": [],
   "source": [
    "assert pow3minus1[0:2] == [2, 8]"
   ]
  },
  {
   "cell_type": "markdown",
   "metadata": {},
   "source": [
    "---\n",
    "##  Problem 2: Iterator (2 points)\n",
    "Deﬁne a class `Fibo` of iterators that enumerate the Fibonacci numbers. For the purposes of this problem, the Fibonacci sequence begins $0, 1, 1, 2, 3, ...$ with the $n$-th Fibonacci number $F_{n}$ given by the recursive formula $F_{n} = F_{n-1} + F_{n-2}$  where $F_{0} = 0$ and $F_{1} = 1$. \n",
    "\n",
    "Your solution should not make use of any function aside from addition (i.e., you should not need to use the function `fibo()` deﬁned in lecture a few weeks ago). Your class should support, at a minimum, an initialization method, a `__iter__` method (so that we can get an iterator) and a `__next__` method. \n",
    "\n",
    "**Note:** there is an especially simple solution to this problem that can be expressed in just a few lines using tuple assignment."
   ]
  },
  {
   "cell_type": "code",
   "execution_count": 127,
   "metadata": {
    "deletable": false,
    "editable": true,
    "nbgrader": {
     "cell_type": "code",
     "checksum": "568a2bec5135afc4ff513a7fc1a29ba6",
     "grade": false,
     "grade_id": "Fibo",
     "locked": false,
     "schema_version": 3,
     "solution": true
    },
    "slideshow": {
     "slide_type": ""
    },
    "tags": []
   },
   "outputs": [],
   "source": [
    "class Fibo():\n",
    "    # YOUR CODE HERE\n",
    "    def __init__(self):\n",
    "        self.F0 = 0\n",
    "        self.Fnm2 = 0\n",
    "        self.F1 = 1\n",
    "        self.Fnm1 = 1\n",
    "        self.i = 0\n",
    "        \n",
    "    def __next__(self):\n",
    "        if self.i == 0:\n",
    "            self.i += 1\n",
    "            return(self.F0)\n",
    "        elif self.i == 1:\n",
    "            self.i += 1\n",
    "            return(self.F1)\n",
    "        else:\n",
    "            self.n = self.Fnm1 + self.Fnm2\n",
    "            self.Fnm2 = self.Fnm1\n",
    "            self.Fnm1 = self.n     \n",
    "            return(self.n)\n",
    "\n",
    "    def __iter__(self):\n",
    "        return(self)\n",
    "    "
   ]
  },
  {
   "cell_type": "code",
   "execution_count": 128,
   "metadata": {
    "deletable": false,
    "editable": false,
    "nbgrader": {
     "cell_type": "code",
     "checksum": "d0186663698fac5c5ce712123c11e20d",
     "grade": true,
     "grade_id": "correct_fibo",
     "locked": false,
     "points": 2,
     "schema_version": 3,
     "solution": false
    }
   },
   "outputs": [],
   "source": [
    "ans1 = Fibo()\n",
    "assert [next(ans1) for _ in range(10)] == [0, 1, 1, 2, 3, 5, 8, 13, 21, 34]"
   ]
  },
  {
   "cell_type": "markdown",
   "metadata": {},
   "source": [
    "##  Problem 3: Dictionaires (9 points)"
   ]
  },
  {
   "cell_type": "markdown",
   "metadata": {},
   "source": [
    "###  3.1: Find the major element (3 points)\n",
    "Given an array nums of size n, return the majority element.\n",
    "\n",
    "The majority element is the element that appears more than ⌊n / 2⌋ times. You may assume that the majority element always exists in the array."
   ]
  },
  {
   "cell_type": "code",
   "execution_count": 129,
   "metadata": {
    "deletable": false,
    "editable": true,
    "nbgrader": {
     "cell_type": "code",
     "checksum": "13d99d66b429ed7a98a4d096fd10e880",
     "grade": false,
     "grade_id": "find_major_element",
     "locked": false,
     "schema_version": 3,
     "solution": true
    },
    "slideshow": {
     "slide_type": ""
    },
    "tags": []
   },
   "outputs": [],
   "source": [
    "import numpy as np\n",
    "\n",
    "def find_major_element(nums):\n",
    "    # YOUR CODE HERE\n",
    "    nums = np.array(nums)\n",
    "    uniq_nums = []\n",
    "    for num in nums:\n",
    "        if num not in uniq_nums:\n",
    "            uniq_nums.append(num)\n",
    "\n",
    "    for num in uniq_nums:\n",
    "        if len(nums[nums == num]) > len(nums)/2:\n",
    "            return(num)"
   ]
  },
  {
   "cell_type": "code",
   "execution_count": 130,
   "metadata": {
    "deletable": false,
    "editable": false,
    "nbgrader": {
     "cell_type": "code",
     "checksum": "6aff633f326f8dd880704819240378f0",
     "grade": true,
     "grade_id": "correct_find_major_element",
     "locked": false,
     "points": 3,
     "schema_version": 3,
     "solution": false
    }
   },
   "outputs": [],
   "source": [
    "assert find_major_element([1]) == 1\n",
    "assert find_major_element([-1, 1, 1, 1, 1, -1, -1]) == 1"
   ]
  },
  {
   "cell_type": "markdown",
   "metadata": {},
   "source": [
    "###  3.2: Group Anagram (3 points)\n",
    "Given an array of strings, group the anagrams together. You can return the answer in any order.\n",
    "\n",
    "An Anagram is a word or phrase formed by rearranging the letters of a different word or phrase, using all the original letters exactly once."
   ]
  },
  {
   "cell_type": "code",
   "execution_count": 131,
   "metadata": {
    "deletable": false,
    "editable": true,
    "nbgrader": {
     "cell_type": "code",
     "checksum": "dc6124c3b07ae880302d4b8f0a2ace94",
     "grade": false,
     "grade_id": "group_anagrams",
     "locked": false,
     "schema_version": 3,
     "solution": true
    },
    "slideshow": {
     "slide_type": ""
    },
    "tags": []
   },
   "outputs": [],
   "source": [
    "import numpy as np\n",
    "\n",
    "def group_anagrams(my_string):\n",
    "    # YOUR CODE HERE\n",
    "    return_l = []\n",
    "    my_string = np.array(my_string)\n",
    "\n",
    "    for string in my_string:\n",
    "        for l in return_l:\n",
    "            if string in return_l:\n",
    "                break\n",
    "        # Get counts of each letter in current string\n",
    "        components = []\n",
    "        for let in string:\n",
    "            components.append(let)\n",
    "        components = np.array(components)\n",
    "        uniq_lets = []\n",
    "        for let in string:\n",
    "            if let not in uniq_lets:\n",
    "                uniq_lets.append(let)\n",
    "        let_dict = {}\n",
    "        for let in uniq_lets:\n",
    "            let_dict[let] = len(components[components == let])\n",
    "\n",
    "        anagrams = [string]\n",
    "        for string2 in my_string[my_string != string]:            \n",
    "            # Get counts of each letter in string\n",
    "            components2 = []\n",
    "            for let in string2:\n",
    "                components2.append(let)\n",
    "            components2 = np.array(components2)\n",
    "            uniq_lets2 = []\n",
    "            for let in string2:\n",
    "                if let not in uniq_lets2:\n",
    "                    uniq_lets2.append(let)\n",
    "            let_dict2 = {}\n",
    "            for let in uniq_lets2:\n",
    "                let_dict2[let] = len(components2[components2 == let])\n",
    "\n",
    "            if let_dict == let_dict2:\n",
    "                anagrams.append(string2)\n",
    "            \n",
    "        return_l.append(anagrams)\n",
    "\n",
    "        return_l2 = []\n",
    "        for l in return_l:\n",
    "            l.sort()\n",
    "            if l not in return_l2:\n",
    "                return_l2.append(l)\n",
    "                \n",
    "    return(return_l2)"
   ]
  },
  {
   "cell_type": "code",
   "execution_count": 132,
   "metadata": {},
   "outputs": [
    {
     "name": "stdout",
     "output_type": "stream",
     "text": [
      "[[''], ['b']]\n",
      "[['enlist', 'listen', 'silent']]\n",
      "[['ate', 'eat', 'tea'], ['nat', 'tan'], ['bat']]\n",
      "[['Tea'], ['Eat'], ['eat', 'tea']]\n"
     ]
    }
   ],
   "source": [
    "print(group_anagrams([\"\", \"b\"]))\n",
    "print(group_anagrams(['listen', 'silent', 'enlist']))\n",
    "print(group_anagrams([\"eat\",\"tea\",\"tan\",\"ate\",\"nat\",\"bat\"]))\n",
    "print(group_anagrams([\"Tea\", \"Eat\", \"tea\", \"eat\"]))"
   ]
  },
  {
   "cell_type": "code",
   "execution_count": 134,
   "metadata": {
    "deletable": false,
    "editable": false,
    "nbgrader": {
     "cell_type": "code",
     "checksum": "992e268295e4f341fcd18051c1901381",
     "grade": true,
     "grade_id": "correct_group_anagrams",
     "locked": false,
     "points": 3,
     "schema_version": 3,
     "solution": false
    }
   },
   "outputs": [
    {
     "ename": "AssertionError",
     "evalue": "",
     "output_type": "error",
     "traceback": [
      "\u001b[1;31m---------------------------------------------------------------------------\u001b[0m",
      "\u001b[1;31mAssertionError\u001b[0m                            Traceback (most recent call last)",
      "Cell \u001b[1;32mIn[134], line 2\u001b[0m\n\u001b[0;32m      1\u001b[0m \u001b[38;5;28;01massert\u001b[39;00m group_anagrams([\u001b[38;5;124m\"\u001b[39m\u001b[38;5;124m\"\u001b[39m, \u001b[38;5;124m\"\u001b[39m\u001b[38;5;124mb\u001b[39m\u001b[38;5;124m\"\u001b[39m]) \u001b[38;5;241m==\u001b[39m [[\u001b[38;5;124m'\u001b[39m\u001b[38;5;124m'\u001b[39m], [\u001b[38;5;124m'\u001b[39m\u001b[38;5;124mb\u001b[39m\u001b[38;5;124m'\u001b[39m]]\n\u001b[1;32m----> 2\u001b[0m \u001b[38;5;28;01massert\u001b[39;00m group_anagrams([\u001b[38;5;124m\"\u001b[39m\u001b[38;5;124mlisten\u001b[39m\u001b[38;5;124m\"\u001b[39m, \u001b[38;5;124m\"\u001b[39m\u001b[38;5;124msilent\u001b[39m\u001b[38;5;124m\"\u001b[39m, \u001b[38;5;124m\"\u001b[39m\u001b[38;5;124menlist\u001b[39m\u001b[38;5;124m\"\u001b[39m]) \u001b[38;5;241m==\u001b[39m [[\u001b[38;5;124m'\u001b[39m\u001b[38;5;124mlisten\u001b[39m\u001b[38;5;124m'\u001b[39m, \u001b[38;5;124m'\u001b[39m\u001b[38;5;124msilent\u001b[39m\u001b[38;5;124m'\u001b[39m, \u001b[38;5;124m'\u001b[39m\u001b[38;5;124menlist\u001b[39m\u001b[38;5;124m'\u001b[39m]]\n\u001b[0;32m      3\u001b[0m \u001b[38;5;28;01massert\u001b[39;00m group_anagrams([\u001b[38;5;124m\"\u001b[39m\u001b[38;5;124meat\u001b[39m\u001b[38;5;124m\"\u001b[39m,\u001b[38;5;124m\"\u001b[39m\u001b[38;5;124mtea\u001b[39m\u001b[38;5;124m\"\u001b[39m,\u001b[38;5;124m\"\u001b[39m\u001b[38;5;124mtan\u001b[39m\u001b[38;5;124m\"\u001b[39m,\u001b[38;5;124m\"\u001b[39m\u001b[38;5;124mate\u001b[39m\u001b[38;5;124m\"\u001b[39m,\u001b[38;5;124m\"\u001b[39m\u001b[38;5;124mnat\u001b[39m\u001b[38;5;124m\"\u001b[39m,\u001b[38;5;124m\"\u001b[39m\u001b[38;5;124mbat\u001b[39m\u001b[38;5;124m\"\u001b[39m]) \u001b[38;5;241m==\u001b[39m [[\u001b[38;5;124m'\u001b[39m\u001b[38;5;124meat\u001b[39m\u001b[38;5;124m'\u001b[39m, \u001b[38;5;124m'\u001b[39m\u001b[38;5;124mtea\u001b[39m\u001b[38;5;124m'\u001b[39m, \u001b[38;5;124m'\u001b[39m\u001b[38;5;124mate\u001b[39m\u001b[38;5;124m'\u001b[39m], [\u001b[38;5;124m'\u001b[39m\u001b[38;5;124mtan\u001b[39m\u001b[38;5;124m'\u001b[39m, \u001b[38;5;124m'\u001b[39m\u001b[38;5;124mnat\u001b[39m\u001b[38;5;124m'\u001b[39m], [\u001b[38;5;124m'\u001b[39m\u001b[38;5;124mbat\u001b[39m\u001b[38;5;124m'\u001b[39m]]\n\u001b[0;32m      4\u001b[0m \u001b[38;5;28;01massert\u001b[39;00m group_anagrams([\u001b[38;5;124m\"\u001b[39m\u001b[38;5;124mTea\u001b[39m\u001b[38;5;124m\"\u001b[39m, \u001b[38;5;124m\"\u001b[39m\u001b[38;5;124mEat\u001b[39m\u001b[38;5;124m\"\u001b[39m, \u001b[38;5;124m\"\u001b[39m\u001b[38;5;124mtea\u001b[39m\u001b[38;5;124m\"\u001b[39m, \u001b[38;5;124m\"\u001b[39m\u001b[38;5;124meat\u001b[39m\u001b[38;5;124m\"\u001b[39m]) \u001b[38;5;241m==\u001b[39m [[\u001b[38;5;124m'\u001b[39m\u001b[38;5;124mTea\u001b[39m\u001b[38;5;124m'\u001b[39m], [\u001b[38;5;124m'\u001b[39m\u001b[38;5;124mEat\u001b[39m\u001b[38;5;124m'\u001b[39m], [\u001b[38;5;124m'\u001b[39m\u001b[38;5;124mtea\u001b[39m\u001b[38;5;124m'\u001b[39m, \u001b[38;5;124m'\u001b[39m\u001b[38;5;124meat\u001b[39m\u001b[38;5;124m'\u001b[39m]]\n",
      "\u001b[1;31mAssertionError\u001b[0m: "
     ]
    }
   ],
   "source": [
    "assert group_anagrams([\"\", \"b\"]) == [[''], ['b']]\n",
    "assert group_anagrams([\"listen\", \"silent\", \"enlist\"]) == [['listen', 'silent', 'enlist']]\n",
    "assert group_anagrams([\"eat\",\"tea\",\"tan\",\"ate\",\"nat\",\"bat\"]) == [['eat', 'tea', 'ate'], ['tan', 'nat'], ['bat']]\n",
    "assert group_anagrams([\"Tea\", \"Eat\", \"tea\", \"eat\"]) == [['Tea'], ['Eat'], ['tea', 'eat']]"
   ]
  },
  {
   "cell_type": "markdown",
   "metadata": {},
   "source": [
    "###  3.3: Contain Duplicate (3 points)\n",
    "Given an integer array nums (represented as Python list) and an integer k, return true if there are two distinct indices i and j in the array such that nums[i] == nums[j] and abs(i - j) <= k.\n",
    "\n"
   ]
  },
  {
   "cell_type": "code",
   "execution_count": 135,
   "metadata": {
    "deletable": false,
    "editable": true,
    "nbgrader": {
     "cell_type": "code",
     "checksum": "9ecd5214e915989496b051f1361669fa",
     "grade": false,
     "grade_id": "contain_duplicate",
     "locked": false,
     "schema_version": 3,
     "solution": true
    },
    "slideshow": {
     "slide_type": ""
    },
    "tags": []
   },
   "outputs": [],
   "source": [
    "def contain_duplicate(nums, k):\n",
    "    # YOUR CODE HERE\n",
    "    uniq_nums = []\n",
    "    for num in nums:\n",
    "        if num not in uniq_nums:\n",
    "            uniq_nums.append(num)\n",
    "\n",
    "    count_dict = {}\n",
    "    i_dict = {}\n",
    "    for uniq_num in uniq_nums:\n",
    "        i = 0\n",
    "        i_l = []\n",
    "        count = 0\n",
    "        for num in nums:\n",
    "            if uniq_num == num:\n",
    "                i_l.append(i) \n",
    "                count += 1\n",
    "                i += 1\n",
    "            else:\n",
    "                i += 1\n",
    "        count_dict[uniq_num] = count\n",
    "        i_dict[uniq_num] = i_l\n",
    "\n",
    "    # Check for pair of letters\n",
    "    num_pair = []\n",
    "    for num in count_dict:\n",
    "        if count_dict[num] == 2:\n",
    "            num_pair.append(num)\n",
    "    if len(num_pair) < 1:\n",
    "        return False\n",
    "\n",
    "    # Check for k condition\n",
    "    for num in num_pair:\n",
    "        if abs(i_dict[num][0] - i_dict[num][1]) <= k:\n",
    "            return True\n",
    "\n",
    "    return False"
   ]
  },
  {
   "cell_type": "code",
   "execution_count": 136,
   "metadata": {
    "deletable": false,
    "editable": false,
    "nbgrader": {
     "cell_type": "code",
     "checksum": "4b0de77ff02f1adac92053e6efbd5a06",
     "grade": true,
     "grade_id": "correct_duplicate",
     "locked": false,
     "points": 3,
     "schema_version": 3,
     "solution": false
    }
   },
   "outputs": [],
   "source": [
    "assert contain_duplicate([1, 2, 3, 1], 3) == True\n",
    "assert contain_duplicate([], 0) == False\n",
    "assert contain_duplicate([1, 2, 3, 4, 5, 6, 7, 8, 9, 10], 5) == False"
   ]
  },
  {
   "cell_type": "markdown",
   "metadata": {
    "deletable": false,
    "editable": false,
    "nbgrader": {
     "cell_type": "markdown",
     "checksum": "08483ac8737f359918de09de9dbb814c",
     "grade": false,
     "grade_id": "cell-c508562d46809e74",
     "locked": true,
     "schema_version": 3,
     "solution": false,
     "task": false
    }
   },
   "source": [
    "## Problem 4: Vectors with an object-oriented approach.(12 points)\n",
    "**Note:** Before starting this problem, you are strongly encouraged to read _Chapter 14: Python Objects_ in the textbook: https://www.py4e.com/html3/14-objects"
   ]
  },
  {
   "cell_type": "code",
   "execution_count": 137,
   "metadata": {
    "deletable": false,
    "editable": true,
    "nbgrader": {
     "cell_type": "code",
     "checksum": "03890c7da751dfb669d506be3eaa236f",
     "grade": false,
     "grade_id": "vector",
     "locked": false,
     "schema_version": 3,
     "solution": true
    },
    "slideshow": {
     "slide_type": ""
    },
    "tags": []
   },
   "outputs": [],
   "source": [
    "\"\"\"Include all the code for the Vector class here.\"\"\"\n",
    "import math\n",
    "import numpy as np\n",
    "\n",
    "class Vector:\n",
    "    # YOUR CODE HERE\n",
    "    def __init__(self, dim=0, nums=None):\n",
    "        if dim == 0:\n",
    "            self.dimension = 0\n",
    "            self.entries = tuple()\n",
    "        elif type(nums) != list and type(nums) != tuple:\n",
    "            raise TypeError('Entries must be in a list or tuple')\n",
    "        elif dim < 0:\n",
    "            raise ValueError('Invalid dimension')\n",
    "        elif dim != len(nums):\n",
    "            raise ValueError('Dimension and values do not match')\n",
    "        else:\n",
    "            self.dimension = dim\n",
    "            self.entries = tuple(nums)\n",
    "\n",
    "    def __eq__(self, V2):\n",
    "        return self.entries == V2.entries\n",
    "    def __gt__(self, V2):\n",
    "        return self.entries > V2.entries\n",
    "    def __le__(self, V2):\n",
    "        return self.entries < V2.entries\n",
    "\n",
    "    def dot(self, V2):\n",
    "        dot_prod = 0\n",
    "        for i in range(0, len(self.entries)):\n",
    "            dot_prod += (self.entries[i] * V2.entries[i])\n",
    "        return(dot_prod)\n",
    "\n",
    "    def __mul__(self, V2):\n",
    "        if type(V2) == float or type(V2) == int:\n",
    "            return Vector(len(self.entries), tuple(np.array(self.entries) * V2))\n",
    "        elif type(V2) == Vector:\n",
    "            if self.dimension != V2.dimension:\n",
    "                raise ValueError('Incompatible vector dimensions')\n",
    "            else:\n",
    "                new_entries = []\n",
    "                for i in range(0, len(self.entries)):\n",
    "                    new_entries.append(self.entries[i] * V2.entries[i])\n",
    "                return(Vector(len(new_entries), new_entries))\n",
    "    def __rmul__(self, V2):\n",
    "        return self * V2\n",
    "\n",
    "    def norm(self, p):\n",
    "        if p == 0:\n",
    "            ary = np.array(self.entries)\n",
    "            return len(ary[ary != 0])\n",
    "        elif p < math.inf:\n",
    "            ary = np.array(self.entries)\n",
    "            return sum(abs(ary)**p)**(1/p)\n",
    "        else:\n",
    "            ary = np.array(self.entries)\n",
    "            return max(ary)"
   ]
  },
  {
   "cell_type": "markdown",
   "metadata": {},
   "source": [
    "### Part 1 (5 points)\n",
    "Deﬁne a class `Vector`. The initializer for your class should take the dimension as its ﬁrst argument and a `list` or `tuple` of numbers (`int`s or `ﬂoat`s), representing the vector’s entries, as its second argument (**Note:** your initializer should work correctly given either a list or a tuple of numbers). The initializer should create a vector with dimension $0$ and no entries (an empty tuple `tuple()`) if the user does not provide the corresponding arguments.\n",
    "\n",
    "Your class vector should have two __instance__ attributes: `dimension` and `entries`. The first containing the dimension of the vector as an `int` and the second containing the entries of the vector as a `tuple`. \n",
    "\n",
    "The initializer should raise an appropriate error in the case where the dimension is invalid (i.e., wrong type or a negative number), and should also raise an error in the event that the dimension and the number of supplied entries disagree.\n",
    "\n",
    "**Note:** Please raise `ValueError` or `TypeError` for your error checking in this problem. Raising either will work. "
   ]
  },
  {
   "cell_type": "code",
   "execution_count": 138,
   "metadata": {
    "deletable": false,
    "editable": false,
    "nbgrader": {
     "cell_type": "code",
     "checksum": "d2f62f62ad92bcb1c670a037f710fffb",
     "grade": true,
     "grade_id": "vec1",
     "locked": true,
     "points": 1,
     "schema_version": 3,
     "solution": false,
     "task": false
    }
   },
   "outputs": [],
   "source": [
    "\"\"\"Check initialization works on sensible cases\"\"\"\n",
    "v = Vector(4, (1, 2, 3, 4))\n",
    "v = Vector(4, [1, 2, 3, 4])\n",
    "v = Vector(1, [1])\n",
    "v = Vector(2, [2, 3])\n",
    "v = Vector(1, (1,))\n",
    "v = Vector(0, [])\n",
    "v = Vector(0)\n",
    "assert True"
   ]
  },
  {
   "cell_type": "code",
   "execution_count": 139,
   "metadata": {
    "deletable": false,
    "editable": false,
    "nbgrader": {
     "cell_type": "code",
     "checksum": "8e9df80b689b0e49d0846d6ac2bff957",
     "grade": true,
     "grade_id": "vec2",
     "locked": true,
     "points": 1,
     "schema_version": 3,
     "solution": false,
     "task": false
    }
   },
   "outputs": [],
   "source": [
    "\"\"\"Vector has correct attributes\"\"\"\n",
    "v = Vector(4, (1, 2, 3, 4))\n",
    "assert isinstance(v, Vector)\n",
    "assert 'entries' in v.__dict__.keys()\n",
    "assert 'dimension' in v.__dict__.keys()\n",
    "assert type(v.dimension) == int\n",
    "assert type(v.entries) == tuple"
   ]
  },
  {
   "cell_type": "code",
   "execution_count": 140,
   "metadata": {
    "deletable": false,
    "editable": false,
    "nbgrader": {
     "cell_type": "code",
     "checksum": "0def7fbe624a8f9b3c5e84aa62655533",
     "grade": true,
     "grade_id": "vec3",
     "locked": true,
     "points": 1,
     "schema_version": 3,
     "solution": false,
     "task": false
    }
   },
   "outputs": [],
   "source": [
    "\"\"\"Check you can get entries from vector and they are correct when retrieved\"\"\"\n",
    "v = Vector(3, [1, 2, 3])\n",
    "assert tuple(v.entries) == (1, 2, 3)"
   ]
  },
  {
   "cell_type": "code",
   "execution_count": 141,
   "metadata": {
    "deletable": false,
    "editable": false,
    "nbgrader": {
     "cell_type": "code",
     "checksum": "789a5e4813c5d5684c125eb53d8bd448",
     "grade": true,
     "grade_id": "vec4",
     "locked": true,
     "points": 2,
     "schema_version": 3,
     "solution": false,
     "task": false
    }
   },
   "outputs": [],
   "source": [
    "\"\"\"Check exceptions are handled correctly\"\"\"\n",
    "try:\n",
    "    Vector(5, (1, 2, 3, 4))\n",
    "    assert False\n",
    "except (ValueError, TypeError):\n",
    "    assert True\n",
    "\n",
    "try:\n",
    "    Vector(-4, (1, 2, 3, 4))\n",
    "    assert False\n",
    "except (ValueError, TypeError):\n",
    "    assert True\n",
    "\n",
    "try:\n",
    "    Vector('a', [1, 2, 3, 4])\n",
    "    assert False\n",
    "except (ValueError, TypeError):\n",
    "    assert True\n",
    "\n",
    "try:\n",
    "    Vector(1, [])\n",
    "    assert False\n",
    "except (ValueError, TypeError):\n",
    "    assert True"
   ]
  },
  {
   "cell_type": "markdown",
   "metadata": {
    "deletable": false,
    "editable": false,
    "nbgrader": {
     "cell_type": "markdown",
     "checksum": "cba35463d067a8f2577787f99466d28f",
     "grade": false,
     "grade_id": "cell-6292145a61d0fe54",
     "locked": true,
     "schema_version": 3,
     "solution": false,
     "task": false
    }
   },
   "source": [
    "### Part 2 (2 point)\n",
    "Implement the necessary operator(s) to support comparison (equality, less than, less or equal to, greater than, etc) of `Vector` objects. We will say that two `Vector` objects are equivalent if they have the same coordinates. Otherwise, comparison should be analogous to `tuple`s in Python, so that comparison is done on the ﬁrst coordinate ﬁrst, then the second coordinate, then the third, and so on. So, for example, the two-dimensional vector `(2, 4)` is ordered before (less than) `(2, 5)`. \n",
    "\n",
    "You can assume you are always comparing vectors of the same dimension. "
   ]
  },
  {
   "cell_type": "code",
   "execution_count": 142,
   "metadata": {
    "deletable": false,
    "editable": false,
    "nbgrader": {
     "cell_type": "code",
     "checksum": "7da3c21e20de0573d7fa3e14bce22555",
     "grade": true,
     "grade_id": "vecpart2",
     "locked": true,
     "points": 2,
     "schema_version": 3,
     "solution": false,
     "task": false
    }
   },
   "outputs": [],
   "source": [
    "assert Vector(3, [2, 1, 1]) != Vector(3, [1, 3, 3])\n",
    "assert Vector(3, [2, 1, 1]) >= Vector(3, [1, 3, 3])\n",
    "assert Vector(3, [1, 1, 1]) == Vector(3, [1, 1, 1])\n",
    "assert Vector(3, [1, 3, 3]) <= Vector(3, [2, 1, 1])"
   ]
  },
  {
   "cell_type": "markdown",
   "metadata": {
    "deletable": false,
    "editable": false,
    "nbgrader": {
     "cell_type": "markdown",
     "checksum": "f249069dcf6f7ad21ac7d31d7e9e44ec",
     "grade": false,
     "grade_id": "cell-33ccb8c3448813d6",
     "locked": true,
     "schema_version": 3,
     "solution": false,
     "task": false
    }
   },
   "source": [
    "### Part 3 (1 point) \n",
    "Implement a method `Vector.dot` that takes a single Vector as its argument and returns the inner product of the caller with the given `Vector` object. You can assume the input is always a vector of the same dimension as the original one."
   ]
  },
  {
   "cell_type": "code",
   "execution_count": 143,
   "metadata": {
    "deletable": false,
    "editable": false,
    "nbgrader": {
     "cell_type": "code",
     "checksum": "898b8ef4b6d8545905cdf38eea6ef06c",
     "grade": true,
     "grade_id": "vecpart3",
     "locked": true,
     "points": 1,
     "schema_version": 3,
     "solution": false,
     "task": false
    }
   },
   "outputs": [],
   "source": [
    "\"\"\"Check your Vector.dot() method works correctly\"\"\"\n",
    "assert Vector(3, (1, 2, 3)).dot(Vector(3, (1, 2, 2))) == 11.0"
   ]
  },
  {
   "cell_type": "markdown",
   "metadata": {
    "deletable": false,
    "editable": false,
    "nbgrader": {
     "cell_type": "markdown",
     "checksum": "b7ba248032cb881ccc14ed85c17aa209",
     "grade": false,
     "grade_id": "cell-c765bf79202536dc",
     "locked": true,
     "schema_version": 3,
     "solution": false,
     "task": false
    }
   },
   "source": [
    "### Part 4 (2 points)\n",
    "We would also like our Vector class to support scalar multiplication. Left- or right multiplication by a scalar, e.g., `2*v` or `v*2`, where `v` is a Vector object, should result in a new `Vector` object with its entries all scaled by the given scalar. We will also follow `R` and `numpy` (which you will learn in a few weeks), and use `*` to denote entrywise vector-vector multiplication, so that for `Vector` objects `v` and `w`, `v*w` results in a new `Vector` object, with the i-th entry of `v*w` equal to the i-th entry of `v` multiplied by the i-th entry of `w`. Implement the appropriate operators to support this multiplication operation. \n",
    "\n",
    "Many languages have a convention for dealing with multiplication of vectors that diﬀer in their dimension, but we will not handle this case. Your method should raise a `ValueError` in the event that `v` and `w` disagree in their dimensions."
   ]
  },
  {
   "cell_type": "code",
   "execution_count": 144,
   "metadata": {
    "deletable": false,
    "editable": false,
    "nbgrader": {
     "cell_type": "code",
     "checksum": "6706e55bc66427dab770a0b6dd986a51",
     "grade": true,
     "grade_id": "partvec41",
     "locked": true,
     "points": 1,
     "schema_version": 3,
     "solution": false,
     "task": false
    }
   },
   "outputs": [],
   "source": [
    "assert 2 * Vector(3, (1, 2, 3)) == Vector(3, (2, 4, 6))\n",
    "assert Vector(3, (1, 2, 3)) * 2 == Vector(3, (2, 4, 6))\n",
    "assert Vector(3, (1, 2, 3)) * Vector(3, (1, 2, 3)) == Vector(3, (1, 4, 9))"
   ]
  },
  {
   "cell_type": "code",
   "execution_count": 145,
   "metadata": {
    "deletable": false,
    "editable": false,
    "nbgrader": {
     "cell_type": "code",
     "checksum": "d911862123d46be08eff234311f3c005",
     "grade": true,
     "grade_id": "vecpart42",
     "locked": true,
     "points": 1,
     "schema_version": 3,
     "solution": false,
     "task": false
    }
   },
   "outputs": [],
   "source": [
    "try:\n",
    "    Vector(3, (1, 2, 3)) * Vector(2, (1, 2))\n",
    "    assert False\n",
    "except ValueError:\n",
    "    assert True"
   ]
  },
  {
   "cell_type": "markdown",
   "metadata": {
    "deletable": false,
    "editable": false,
    "nbgrader": {
     "cell_type": "markdown",
     "checksum": "9a1d59df3acc5820286a2c206a31fca7",
     "grade": false,
     "grade_id": "cell-310c8b288727a97d",
     "locked": true,
     "schema_version": 3,
     "solution": false,
     "task": false
    }
   },
   "source": [
    "### Part 5 (2 points)\n",
    "For a real number $0 \\leq p \\leq \\infty$, and a vector $v \\in \\mathbb{R}^{d}$, the $p$-norm of $v$, written $\\| v \\|_{p}$, is given by: \n",
    "\n",
    "$$ \n",
    "\\| v \\|_p = \\begin{cases}\n",
    "                        \\sum_{i=1}^d 1_{v_i \\neq 0} &\\mbox{ if } p = 0\\\\\n",
    "                        (\\sum_{i=1}^d |v_i|^p )^{1/p} &\\mbox{ if }\n",
    "                                                        0 < p < \\infty, \\\\\n",
    "                        \\max_{i=1,2,\\dots,d} |v_i| &\\mbox{ if } p=\\infty\n",
    "                        \\end{cases}\n",
    "$$\n",
    "\n",
    "where $v_i$ is the $i$-th component of the vector and the notation $1_{v_i \\neq 0}$ indicates: \n",
    "\n",
    "$$ \n",
    "1_{v_i \\neq 0} = \\begin{cases}\n",
    "                        1 &\\mbox{ if } v_i \\neq 0\\\\\n",
    "                        0 &\\mbox{ if } v_i = 0\n",
    "                        \\end{cases}. \n",
    "$$\n",
    "\n",
    "\n",
    "Implement a method `Vector.norm` that takes a single int or ﬂoat `p` as an argument and returns the $p$-norm of the calling `Vector` object. You can assume the input $p$ is always a non-negative integer or float.\n",
    "\n",
    "`Hint:` see https://docs.python.org/3/library/functions.html# float for documentation on representing positive inﬁnity in Python."
   ]
  },
  {
   "cell_type": "code",
   "execution_count": 146,
   "metadata": {
    "deletable": false,
    "editable": false,
    "nbgrader": {
     "cell_type": "code",
     "checksum": "530905eef7b0d0f56773ebb3e31ca9d5",
     "grade": true,
     "grade_id": "vecpart5",
     "locked": true,
     "points": 1,
     "schema_version": 3,
     "solution": false,
     "task": false
    }
   },
   "outputs": [],
   "source": [
    "\"\"\"Check your Vector.dot() method works correctly\"\"\"\n",
    "assert Vector(3, (1, 2, 3)).norm(1) == 6.0\n",
    "assert Vector(2, (1, 2)).norm(2) == math.sqrt(1**2 + 2**2)"
   ]
  },
  {
   "cell_type": "code",
   "execution_count": null,
   "metadata": {},
   "outputs": [],
   "source": []
  }
 ],
 "metadata": {
  "kernelspec": {
   "display_name": "Python 3 (ipykernel)",
   "language": "python",
   "name": "python3"
  },
  "language_info": {
   "codemirror_mode": {
    "name": "ipython",
    "version": 3
   },
   "file_extension": ".py",
   "mimetype": "text/x-python",
   "name": "python",
   "nbconvert_exporter": "python",
   "pygments_lexer": "ipython3",
   "version": "3.12.7"
  }
 },
 "nbformat": 4,
 "nbformat_minor": 4
}
